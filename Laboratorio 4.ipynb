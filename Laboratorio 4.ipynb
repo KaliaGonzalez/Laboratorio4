{
 "cells": [
  {
   "attachments": {},
   "cell_type": "markdown",
   "metadata": {},
   "source": [
    "## Laboratorio 4 realizado por: Johan Suarez y Kalia Gonzalez"
   ]
  },
  {
   "attachments": {},
   "cell_type": "markdown",
   "metadata": {},
   "source": [
    "### Ejercicio 1 "
   ]
  },
  {
   "attachments": {},
   "cell_type": "markdown",
   "metadata": {},
   "source": [
    "A continuacion , se quiere realizar el siguiente ejericio usando proramacion lineal con el metodo Simplex estandarizado: $$\\text{max}(3x1+2x2+5x3)$$ y donde esta sujeto a las siguientes instrucciones: $$\\text(x1+x2+x3\\leq 100)$$ $$\\text(2x1+x2+x3 \\leq 150)$$ $$\\text(x1+4x2+2x3 \\leq 80)$$  $$\\text(x1,x2,x3 \\geq 0)$$\n"
   ]
  },
  {
   "attachments": {},
   "cell_type": "markdown",
   "metadata": {},
   "source": [
    "##### Explicacion de Implementacion"
   ]
  },
  {
   "attachments": {},
   "cell_type": "markdown",
   "metadata": {},
   "source": [
    "1. Agregamos las variables de holgura s1,s2 y s3 e igualamos las ecuaciones. \n",
    "2. Iteramos con base a la formula matematica $$\\text (cj = cj-\\lambda Aj)$$ done cj representa la matriz de coeficientes de cada ecuacion incluyendo el de las variables. \n",
    "3. Iteramos hasta encontrar el optimo"
   ]
  },
  {
   "cell_type": "code",
   "execution_count": 10,
   "metadata": {},
   "outputs": [
    {
     "name": "stdout",
     "output_type": "stream",
     "text": [
      "La solucion es:  [73.33333333  0.          3.33333333 23.33333333  0.          0.        ]\n",
      "El valor de la funcion objetivo es:  236.66666666666666\n"
     ]
    }
   ],
   "source": [
    "import numpy as np \n",
    "\n",
    "#Definimos una lista donde estaran los coeficientes de cada una de las variables incluyendo las de holgura \n",
    "coeficiente =np.array([-3,-2,-5,0,0,0])# Ponemos las variables de holgura como 0 y las variables de decision como los coeficientes de la funcion objetivo en negativo \n",
    "# Definimos la matriz de restricciones \n",
    "restricciones = np.array([[1,1,1,1,0,0],[2,1,1,0,1,0],[1,4,2,0,0,1]]) \n",
    "# Definimos el vector de resultados \n",
    "resultados = np.array([100,150,80]) \n",
    "#Definimos las variables de holgura como base (columna 3,4,5)\n",
    "variables_base = np.array([3,4,5]) \n",
    "#Realizamos el algoritmo \n",
    "def simplexAlgorithm(coeficientes,restricciones,resultados): \n",
    "    m,n = restricciones.shape  \n",
    "    # Definimos la matriz de coeficientes\n",
    "    b = restricciones[:, variables_base] \n",
    "    #Lista de los indices de las variables no basicas \n",
    "    non_basic = [j for j in range(n) if j not in variables_base]\n",
    "    # Definimos la matriz de soluciones \n",
    "    while True: \n",
    "        b_invertida = np.linalg.inv(b) \n",
    "        x_b = (b_invertida @ resultados ).flatten()\n",
    "        lambda_ = coeficientes[variables_base] @ b_invertida \n",
    "        #Calculamos el costo reducido \n",
    "        costo_reducido = coeficientes[non_basic] - lambda_ @ restricciones[:, non_basic] \n",
    "        # Verificamos si el costo reducido es positivo \n",
    "        if all(costo_reducido >= 0): \n",
    "            x = np.zeros(n) \n",
    "            for i , var_index in enumerate(variables_base): \n",
    "                x[var_index] =float(x_b[i] )\n",
    "            z = -coeficientes @ x \n",
    "            return x, z \n",
    "        # Encontramos la variable entrante \n",
    "        entrante = non_basic[np.argmin(costo_reducido)] \n",
    "        d = b_invertida @ restricciones[:, entrante] \n",
    "        ratios = x_b / d \n",
    "        #Determinamos cual varibale basica va a salir de la base\n",
    "        fuera_indice = np.argmin(ratios) \n",
    "        fuera = variables_base[fuera_indice] \n",
    "        # Actualizamos la base \n",
    "        variables_base[fuera_indice] = entrante \n",
    "        b = restricciones[:, variables_base] \n",
    "        non_basic = [ j for j in range(n) if j not in variables_base] \n",
    "#Ejecutamos el algoritmo \n",
    "solucion , z = simplexAlgorithm(coeficiente, restricciones, resultados) \n",
    "print(\"La solucion es: \",solucion) \n",
    "print(\"El valor de la funcion objetivo es: \",z)\n",
    "        "
   ]
  },
  {
   "attachments": {},
   "cell_type": "markdown",
   "metadata": {},
   "source": [
    "#### Tablas de iteraciones"
   ]
  },
  {
   "attachments": {},
   "cell_type": "markdown",
   "metadata": {},
   "source": [
    "A continuacion se muestran las tablas de cada iteracion: "
   ]
  },
  {
   "attachments": {},
   "cell_type": "markdown",
   "metadata": {},
   "source": [
    "| Basica | x1 | x2 | x3 | s1 | s2 | s3 | RHS | \n",
    "|--------|----|----|----|----|----|----|-----| \n",
    "| s1     | 1  | 1  | 1  | 1  | 0  | 0  | 100 | \n",
    "| s2     | 2  | 1  | 1  | 0  | 1  | 0  | 150 | \n",
    "| s3     | 1  | 4  | 2  | 0  | 0  | 1  | 80  |  \n",
    "| zj-cj     | -3  | -2  | -5  | 0  | 0  | 0  |  | \n",
    "\n",
    "\n"
   ]
  },
  {
   "attachments": {},
   "cell_type": "markdown",
   "metadata": {},
   "source": [
    "Ahora buscamos la proxima variable a introducir en la base. En este caso es -5 en la columna 3.  Dividimos cada termino de dicha columna con el resultado (RHS) : $$\\text(100/1 = 150)$$ $$\\text(150/1 = 150)$$ $$\\text(80/2 = 40)$$"
   ]
  },
  {
   "attachments": {},
   "cell_type": "markdown",
   "metadata": {},
   "source": [
    "| Basica | x1 | x2 | x3 | s1 | s2 | s3 | RHS | \n",
    "|--------|----|----|----|----|----|----|-----| \n",
    "| s1     | 0.5  | -1  | 0 | 1  | 0  | 0  | 60 | \n",
    "| s2     | 1.5  | -1  | 0  | 0  | 1  | 0  | 110 | \n",
    "| s3     | 0.5  | 2  | 1 | 0  | 0  | 0.5  | 40  |  \n",
    "| zj-cj     | -0.5  | 8  | 0  | 0  | 0  | 0  |  | "
   ]
  },
  {
   "attachments": {},
   "cell_type": "markdown",
   "metadata": {},
   "source": [
    "Realizamos la ultima iteracion dividiendo los resultados con los valores en la columna 2 (x1) :  $$\\text(60/0.5 = 120)$$ $$\\text(110/1.5= 73,33)$$ $$\\text(40/0.5 = 80)$$"
   ]
  },
  {
   "attachments": {},
   "cell_type": "markdown",
   "metadata": {},
   "source": [
    "| Basica | x1 | x2 | x3 | s1 | s2 | s3 | RHS | \n",
    "|--------|----|----|----|----|----|----|-----| \n",
    "| s1     | 0  | -0.67  | 0 | 1  | -0.33  | -0.33  | 23.33 | \n",
    "| s2     | 1 | -0.67 | 0  | 0  | -0.67  | -0.33  | 73.33 | \n",
    "| s3     | 0  | 2.33  | 1 | 0  | -0.33  | 0.67  | 3.33  |  \n",
    "| zj-cj     | -0 | 7.67  | 0  | 0  | -0.33  | 2.33  |  | "
   ]
  },
  {
   "attachments": {},
   "cell_type": "markdown",
   "metadata": {},
   "source": [
    "#### Analisis Geometrico: "
   ]
  },
  {
   "attachments": {},
   "cell_type": "markdown",
   "metadata": {},
   "source": [
    "Este tipo de problema define una region que esta acostada por planos correspondientes a cada restriccion. Cada una de ellas delimita una parte del espacio. Esto confirma que el optimo se alcanza en la interseccion de las dos restricciones activas (mas limitantes). HACER GRAFICASSSSSS"
   ]
  },
  {
   "attachments": {},
   "cell_type": "markdown",
   "metadata": {},
   "source": [
    "#### Analisis de Sensibilidad : "
   ]
  },
  {
   "cell_type": "code",
   "execution_count": 11,
   "metadata": {},
   "outputs": [
    {
     "name": "stdout",
     "output_type": "stream",
     "text": [
      "La solucion es:  [73.33333333  0.          3.33333333 23.33333333  0.          0.        ]\n",
      "El valor de la funcion objetivo es:  182.29999999999998\n"
     ]
    }
   ],
   "source": [
    "import numpy as np \n",
    "\n",
    "#Definimos una lista donde estaran los coeficientes de cada una de las variables incluyendo las de holgura \n",
    "coeficiente =np.array([-3,-2,-5,2.33,0,0])# Ponemos las variables de holgura como 0 y las variables de decision como los coeficientes de la funcion objetivo en negativo \n",
    "# Definimos la matriz de restricciones \n",
    "restricciones = np.array([[1,1,1,1,0,0],[2,1,1,0,1,0],[1,4,2,0,0,1]]) \n",
    "# Definimos el vector de resultados \n",
    "resultados = np.array([100,150,80]) \n",
    "#Definimos las variables de holgura como base (columna 3,4,5)\n",
    "variables_base = np.array([3,4,5]) \n",
    "#Realizamos el algoritmo \n",
    "def simplexAlgorithm(coeficientes,restricciones,resultados): \n",
    "    m,n = restricciones.shape  \n",
    "    # Definimos la matriz de coeficientes\n",
    "    b = restricciones[:, variables_base] \n",
    "    #Lista de los indices de las variables no basicas \n",
    "    non_basic = [j for j in range(n) if j not in variables_base]\n",
    "    # Definimos la matriz de soluciones \n",
    "    while True: \n",
    "        b_invertida = np.linalg.inv(b) \n",
    "        x_b = (b_invertida @ resultados ).flatten()\n",
    "        lambda_ = coeficientes[variables_base] @ b_invertida \n",
    "        #Calculamos el costo reducido \n",
    "        costo_reducido = coeficientes[non_basic] - lambda_ @ restricciones[:, non_basic] \n",
    "        # Verificamos si el costo reducido es positivo \n",
    "        if all(costo_reducido >= 0): \n",
    "            x = np.zeros(n) \n",
    "            for i , var_index in enumerate(variables_base): \n",
    "                x[var_index] =float(x_b[i] )\n",
    "            z = -coeficientes @ x \n",
    "            return x, z \n",
    "        # Encontramos la variable entrante \n",
    "        entrante = non_basic[np.argmin(costo_reducido)] \n",
    "        d = b_invertida @ restricciones[:, entrante] \n",
    "        ratios = x_b / d \n",
    "        #Determinamos cual varibale basica va a salir de la base\n",
    "        fuera_indice = np.argmin(ratios) \n",
    "        fuera = variables_base[fuera_indice] \n",
    "        # Actualizamos la base \n",
    "        variables_base[fuera_indice] = entrante \n",
    "        b = restricciones[:, variables_base] \n",
    "        non_basic = [ j for j in range(n) if j not in variables_base] \n",
    "#Ejecutamos el algoritmo \n",
    "solucion , z = simplexAlgorithm(coeficiente, restricciones, resultados) \n",
    "print(\"La solucion es: \",solucion) \n",
    "print(\"El valor de la funcion objetivo es: \",z)\n",
    "        "
   ]
  },
  {
   "attachments": {},
   "cell_type": "markdown",
   "metadata": {},
   "source": [
    "En este caso, vemos que al cambiar los valores de algunos de las variables de holgura , el resultado cambia drasticamente y resulta ser menor al que es originalmente. Esto tal vez se deba por la nueva asignacion de pibotes durante el calculo de las variables que hagan parte o no de la matriz."
   ]
  },
  {
   "cell_type": "code",
   "execution_count": 13,
   "metadata": {},
   "outputs": [
    {
     "name": "stdout",
     "output_type": "stream",
     "text": [
      "La solucion es:  [73.33333333  0.          3.33333333 23.33333333  0.          0.        ]\n",
      "El valor de la funcion objetivo es:  236.66666666666666\n"
     ]
    }
   ],
   "source": [
    "import numpy as np \n",
    "\n",
    "#Definimos una lista donde estaran los coeficientes de cada una de las variables incluyendo las de holgura \n",
    "coeficiente =np.array([-3,12,-5,0,0,0])# Ponemos las variables de holgura como 0 y las variables de decision como los coeficientes de la funcion objetivo en negativo \n",
    "# Definimos la matriz de restricciones \n",
    "restricciones = np.array([[1,1,1,1,0,0],[2,1,1,0,1,0],[1,4,2,0,0,1]]) \n",
    "# Definimos el vector de resultados \n",
    "resultados = np.array([100,150,80]) \n",
    "#Definimos las variables de holgura como base (columna 3,4,5)\n",
    "variables_base = np.array([3,4,5]) \n",
    "#Realizamos el algoritmo \n",
    "def simplexAlgorithm(coeficientes,restricciones,resultados): \n",
    "    m,n = restricciones.shape  \n",
    "    # Definimos la matriz de coeficientes\n",
    "    b = restricciones[:, variables_base] \n",
    "    #Lista de los indices de las variables no basicas \n",
    "    non_basic = [j for j in range(n) if j not in variables_base]\n",
    "    # Definimos la matriz de soluciones \n",
    "    while True: \n",
    "        b_invertida = np.linalg.inv(b) \n",
    "        x_b = (b_invertida @ resultados ).flatten()\n",
    "        lambda_ = coeficientes[variables_base] @ b_invertida \n",
    "        #Calculamos el costo reducido \n",
    "        costo_reducido = coeficientes[non_basic] - lambda_ @ restricciones[:, non_basic] \n",
    "        # Verificamos si el costo reducido es positivo \n",
    "        if all(costo_reducido >= 0): \n",
    "            x = np.zeros(n) \n",
    "            for i , var_index in enumerate(variables_base): \n",
    "                x[var_index] =float(x_b[i] )\n",
    "            z = -coeficientes @ x \n",
    "            return x, z \n",
    "        # Encontramos la variable entrante \n",
    "        entrante = non_basic[np.argmin(costo_reducido)] \n",
    "        d = b_invertida @ restricciones[:, entrante] \n",
    "        ratios = x_b / d \n",
    "        #Determinamos cual varibale basica va a salir de la base\n",
    "        fuera_indice = np.argmin(ratios) \n",
    "        fuera = variables_base[fuera_indice] \n",
    "        # Actualizamos la base \n",
    "        variables_base[fuera_indice] = entrante \n",
    "        b = restricciones[:, variables_base] \n",
    "        non_basic = [ j for j in range(n) if j not in variables_base] \n",
    "#Ejecutamos el algoritmo \n",
    "solucion , z = simplexAlgorithm(coeficiente, restricciones, resultados) \n",
    "print(\"La solucion es: \",solucion) \n",
    "print(\"El valor de la funcion objetivo es: \",z)\n",
    "        "
   ]
  },
  {
   "attachments": {},
   "cell_type": "markdown",
   "metadata": {},
   "source": [
    "Sin embargo, en este otro caso a pesar de haber cambiado el valor de la variable objetivo, nos da el mismo resultado. Convirtiendo asi la solucion estable ante distintos cambios."
   ]
  },
  {
   "attachments": {},
   "cell_type": "markdown",
   "metadata": {},
   "source": []
  }
 ],
 "metadata": {
  "kernelspec": {
   "display_name": "Python 3",
   "language": "python",
   "name": "python3"
  },
  "language_info": {
   "codemirror_mode": {
    "name": "ipython",
    "version": 3
   },
   "file_extension": ".py",
   "mimetype": "text/x-python",
   "name": "python",
   "nbconvert_exporter": "python",
   "pygments_lexer": "ipython3",
   "version": "3.13.1"
  },
  "orig_nbformat": 4
 },
 "nbformat": 4,
 "nbformat_minor": 2
}
